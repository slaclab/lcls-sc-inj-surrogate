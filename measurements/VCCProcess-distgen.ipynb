{
 "cells": [
  {
   "cell_type": "code",
   "execution_count": null,
   "metadata": {},
   "outputs": [],
   "source": [
    "!pwd"
   ]
  },
  {
   "cell_type": "code",
   "execution_count": null,
   "metadata": {},
   "outputs": [],
   "source": [
    "%load_ext autoreload\n",
    "%autoreload 2\n",
    "import numpy as np\n",
    "import matplotlib.pyplot as plt\n",
    "from skimage import measure\n",
    "import scipy.ndimage as ndimage"
   ]
  },
  {
   "cell_type": "code",
   "execution_count": null,
   "metadata": {},
   "outputs": [],
   "source": [
    "import os\n",
    "import sys\n",
    "sys.path.append('/sdf/home/l/lgupta/lgupta/github/lcls-tools/')\n",
    "sys.path.append('/sdf/home/l/lgupta/lgupta/github/lcls-tools/lcls_tools/devices/profile_monitor')\n",
    "sys.path.append('/sdf/home/l/lgupta/lgupta/github/lcls-tools/lcls_tools/devices/magnet')\n",
    "sys.path.append('/sdf/home/l/lgupta/lgupta/github/lcls-tools/lcls_tools/image_processing')\n",
    "\n",
    "from lcls_tools import image_processing as imp\n",
    "import ImageProcessing as mip"
   ]
  },
  {
   "cell_type": "code",
   "execution_count": null,
   "metadata": {},
   "outputs": [],
   "source": [
    "\n",
    "import glob\n",
    "\n",
    "files = []\n",
    "\n",
    "path = \"/gpfs/slac/staas/fs1/g/accelerator_modeling/lgupta/github/lcls_sc_inj_surrogate/measurements/files/\"\n",
    "\n",
    "for file in glob.glob(path+\"ProfMon-C*.mat\"):\n",
    "    files.append(os.path.join(path, file))\n",
    "\n",
    "    \n",
    "print(len(files))"
   ]
  },
  {
   "cell_type": "code",
   "execution_count": null,
   "metadata": {},
   "outputs": [],
   "source": [
    "files"
   ]
  },
  {
   "cell_type": "code",
   "execution_count": null,
   "metadata": {},
   "outputs": [],
   "source": [
    "image = imp.mat_image.MatImage()\n",
    "image.load_mat_image(files[0])\n",
    "images = image.image\n",
    "\n",
    "for f in files[1:]:\n",
    "    image = imp.mat_image.MatImage()\n",
    "    image.load_mat_image(f)\n",
    "    images = np.dstack((images, image.image))\n",
    "    resolution = image.resolution\n",
    "\n",
    "print(\"Resolution is = \" + str(resolution))\n",
    "print(np.shape(images))    "
   ]
  },
  {
   "cell_type": "code",
   "execution_count": null,
   "metadata": {},
   "outputs": [],
   "source": [
    "VCC_dict = mip.doAnalysisAndReturnDict(images, plotting = True, VCC = True, npix = 150, resolution = resolution, verbose = False, scale_factor = 5)"
   ]
  },
  {
   "cell_type": "code",
   "execution_count": null,
   "metadata": {},
   "outputs": [],
   "source": [
    "savepath"
   ]
  },
  {
   "cell_type": "code",
   "execution_count": null,
   "metadata": {},
   "outputs": [],
   "source": [
    "savepath = path\n",
    "savenames = []\n",
    "\n",
    "for ind, name in enumerate(files):\n",
    "    name = name.split('.')[0]\n",
    "    savename = savepath+\"file_\"+str(ind)\n",
    "    image = VCC_dict['masked_images'][ind]\n",
    "    n,m = np.shape(image)\n",
    "    np.savetxt(savename+'.txt',image)\n",
    "    xwidth=resolution*n*(1E-3)\n",
    "    ywidth=resolution*m*(1E-3)\n",
    "    xcm=resolution*(n/2)*(1E-3)\n",
    "    ycm=resolution*(m/2)*(1E-3)\n",
    "    #print( xwidth, ywidth, xcm, ycm)\n",
    "    with open(savename+'.txt', 'r+') as f:\n",
    "        with open(savename+\"_out.txt\", \"w\") as f2:\n",
    "            line = 'x ' + str(xwidth) + \" \" + str(xcm) + \" [mm]\\ny \" + str(ywidth) + \" \" + str(ycm) + \" [mm]\\n\"\n",
    "            f2.write(line)\n",
    "            for line in f:\n",
    "                f2.write(line)\n",
    "    \n",
    "    savenames.append(savename+\"_out.txt\")\n",
    "    \n",
    "    "
   ]
  },
  {
   "cell_type": "code",
   "execution_count": null,
   "metadata": {},
   "outputs": [],
   "source": [
    "# import yaml\n",
    "# ####for making yaml input files DO NOT DELETE\n",
    "# originalfile = \"/global/homes/l/lgupta/m669/MeasuredData/VCC/laser_in.yaml\"\n",
    "# with open(originalfile) as j:\n",
    "#     originaldata = yaml.load(j, Loader=yaml.FullLoader)\n",
    "    \n",
    "# yaml_input_files = []\n",
    "# for ind, name in enumerate(savenames):\n",
    "#     data = originaldata\n",
    "#     data[\"xy_dist\"][\"file\"] = name\n",
    "#     data[\"start\"][\"MTE\"][\"value\"] = 250\n",
    "#     outname = name.split('_out')[0] + \"_laser_in.yaml\"\n",
    "#     yaml_input_files.append(outname)\n",
    "#     with open(outname, 'w') as f:\n",
    "#         yaml.dump(data, f)\n",
    "\n",
    "# print(len(yaml_input_files))\n",
    "# print(\"Files written to:  \"+savepath)\n"
   ]
  },
  {
   "cell_type": "code",
   "execution_count": null,
   "metadata": {},
   "outputs": [],
   "source": []
  }
 ],
 "metadata": {
  "kernelspec": {
   "display_name": "Python 3",
   "language": "python",
   "name": "python3"
  },
  "language_info": {
   "codemirror_mode": {
    "name": "ipython",
    "version": 3
   },
   "file_extension": ".py",
   "mimetype": "text/x-python",
   "name": "python",
   "nbconvert_exporter": "python",
   "pygments_lexer": "ipython3",
   "version": "3.6.9"
  }
 },
 "nbformat": 4,
 "nbformat_minor": 4
}
